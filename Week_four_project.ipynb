{
  "nbformat": 4,
  "nbformat_minor": 0,
  "metadata": {
    "colab": {
      "provenance": []
    },
    "kernelspec": {
      "name": "python3",
      "display_name": "Python 3"
    },
    "language_info": {
      "name": "python"
    }
  },
  "cells": [
    {
      "cell_type": "markdown",
      "source": [
        "1.Check Whether a String is a Palindrome Using a Stack"
      ],
      "metadata": {
        "id": "MIB_OHk7cr2j"
      }
    },
    {
      "cell_type": "markdown",
      "source": [
        "How we are going to check if the string is a palindrome\n",
        "Pushing each character of the string onto a stack.\n",
        "Popping each character from the stack and compare it to the corresponding character in the string."
      ],
      "metadata": {
        "id": "dCeaoKvreTgl"
      }
    },
    {
      "cell_type": "code",
      "source": [
        "def is_palindrome(s) :\n",
        "    stack = []\n",
        "    for char in s:\n",
        "        stack.append(char)\n",
        "\n",
        "    # To check if the string is a palindrome by comparing it with the reversed stack\n",
        "    for char in s:\n",
        "        if char != stack.pop():\n",
        "            return False\n",
        "    return True\n",
        "\n",
        "# Example\n",
        "input_string = \"radar\"\n",
        "print(f\"The string '{input_string}' is a palindrome: {is_palindrome(input_string)}\")\n"
      ],
      "metadata": {
        "colab": {
          "base_uri": "https://localhost:8080/"
        },
        "id": "tgCPzxJYct3v",
        "outputId": "13c3f863-3d44-46bb-e6ae-934daa863bce"
      },
      "execution_count": null,
      "outputs": [
        {
          "output_type": "stream",
          "name": "stdout",
          "text": [
            "The string 'radar' is a palindrome: True\n"
          ]
        }
      ]
    },
    {
      "cell_type": "markdown",
      "source": [
        "List Comprehension in Python"
      ],
      "metadata": {
        "id": "AQuK5fMziTuX"
      }
    },
    {
      "cell_type": "markdown",
      "source": [
        "Flattening a List of Lists into a single list"
      ],
      "metadata": {
        "id": "p1-O3n9IicNB"
      }
    },
    {
      "cell_type": "code",
      "source": [
        "list_of_lists = [[1, 2, 3], [4, 5], [6]]\n",
        "flattened_list = [item for sublist in list_of_lists for item in sublist]\n",
        "print(flattened_list)"
      ],
      "metadata": {
        "colab": {
          "base_uri": "https://localhost:8080/"
        },
        "id": "NzBzBrBki9Pl",
        "outputId": "c1a65d00-0783-415d-b75d-e9b5a2106b1c"
      },
      "execution_count": null,
      "outputs": [
        {
          "output_type": "stream",
          "name": "stdout",
          "text": [
            "[1, 2, 3, 4, 5, 6]\n"
          ]
        }
      ]
    },
    {
      "cell_type": "markdown",
      "source": [
        "Generating a List of Tuples with Indexes onto their elements"
      ],
      "metadata": {
        "id": "lxbMwjwFjIUh"
      }
    },
    {
      "cell_type": "code",
      "source": [
        "items = ['a', 'b', 'c', 'd']\n",
        "indexed_list = [(index, item) for index, item in enumerate(items)]\n",
        "print(indexed_list)"
      ],
      "metadata": {
        "colab": {
          "base_uri": "https://localhost:8080/"
        },
        "id": "6n5d-C49jGCW",
        "outputId": "ac22d13f-7573-4e2e-ec4c-50df906ebced"
      },
      "execution_count": null,
      "outputs": [
        {
          "output_type": "stream",
          "name": "stdout",
          "text": [
            "[(0, 'a'), (1, 'b'), (2, 'c'), (3, 'd')]\n"
          ]
        }
      ]
    },
    {
      "cell_type": "markdown",
      "source": [
        "Applying a function to  Convert a list of strings to uppercase"
      ],
      "metadata": {
        "id": "hwERY8r7jGZo"
      }
    },
    {
      "cell_type": "code",
      "source": [
        "words = [\"hello\", \"world\", \"python\"]\n",
        "uppercase_words = [word.upper() for word in words]\n",
        "print(uppercase_words)"
      ],
      "metadata": {
        "colab": {
          "base_uri": "https://localhost:8080/"
        },
        "id": "k2485qEWj1a4",
        "outputId": "88306acc-cedd-428d-c273-51715a2416fc"
      },
      "execution_count": null,
      "outputs": [
        {
          "output_type": "stream",
          "name": "stdout",
          "text": [
            "['HELLO', 'WORLD', 'PYTHON']\n"
          ]
        }
      ]
    },
    {
      "cell_type": "markdown",
      "source": [
        "Lists: Ordered collections of elements, enclosed in square brackets ([])."
      ],
      "metadata": {
        "id": "kH8juKAyj8_n"
      }
    },
    {
      "cell_type": "code",
      "source": [
        "my_list = [1, 2, 3, 4, 5]"
      ],
      "metadata": {
        "id": "4SDZtvrlkZ9k"
      },
      "execution_count": null,
      "outputs": []
    },
    {
      "cell_type": "markdown",
      "source": [
        "Dictionaries: Unordered collections of key-value pairs, enclosed in curly braces ({})."
      ],
      "metadata": {
        "id": "GpjILUwMkrzp"
      }
    },
    {
      "cell_type": "code",
      "source": [
        "my_dictionary = {\"name\": \"Alice\", \"age\": 30}"
      ],
      "metadata": {
        "id": "-3rMyaCykqfC"
      },
      "execution_count": 17,
      "outputs": []
    },
    {
      "cell_type": "markdown",
      "source": [
        "Tuples: Unchangeable ordered collections of elements, enclosed in parentheses (())."
      ],
      "metadata": {
        "id": "FrmIhPxMlMJJ"
      }
    },
    {
      "cell_type": "code",
      "source": [
        "my_tuple = (1, 2, 3)"
      ],
      "metadata": {
        "id": "7xsQkbbYlaC1"
      },
      "execution_count": 18,
      "outputs": []
    },
    {
      "cell_type": "markdown",
      "source": [
        "Function to Return Bigrams"
      ],
      "metadata": {
        "id": "Sgad1UnUllxf"
      }
    },
    {
      "cell_type": "code",
      "source": [
        "def get_bigrams(s):\n",
        "    return [(s[i], s[i+1]) for i in range(len(s) - 1)]\n",
        "\n",
        "# Example\n",
        "input_string = \"world\"\n",
        "print(f\"Bigrams of '{input_string}': {get_bigrams(input_string)}\")"
      ],
      "metadata": {
        "colab": {
          "base_uri": "https://localhost:8080/"
        },
        "id": "WqMlvX5EloMz",
        "outputId": "17fc6375-cf12-4ba4-f1a6-e7603ad49cc7"
      },
      "execution_count": 20,
      "outputs": [
        {
          "output_type": "stream",
          "name": "stdout",
          "text": [
            "Bigrams of 'world': [('w', 'o'), ('o', 'r'), ('r', 'l'), ('l', 'd')]\n"
          ]
        }
      ]
    },
    {
      "cell_type": "markdown",
      "source": [
        "Function to Find Closest Key in a Dictionary"
      ],
      "metadata": {
        "id": "iX2rodDamv_k"
      }
    },
    {
      "cell_type": "code",
      "source": [
        "def closest_key(dictionary, letter):\n",
        "    closest = None\n",
        "    min_index = float('inf')\n",
        "\n",
        "    for key, letters in dictionary.items():\n",
        "        try:\n",
        "            index = letters.index(letter)\n",
        "            if index < min_index:\n",
        "                min_index = index\n",
        "                closest = key\n",
        "        except ValueError:\n",
        "            continue\n",
        "\n",
        "    return closest\n",
        "\n",
        "# Example\n",
        "my_dict = {\n",
        "    'a': ['i', 'j', 'k'],\n",
        "    'b': ['a', 'b', 'c'],\n",
        "    'c': ['q', 'r', 's']\n",
        "}\n",
        "letter = 'b'\n",
        "print(f\"The key with '{letter}' closest to the beginning is: {closest_key(my_dict, letter)}\")\n"
      ],
      "metadata": {
        "colab": {
          "base_uri": "https://localhost:8080/"
        },
        "id": "ANXIxMHkmxoQ",
        "outputId": "8b929ca6-0bd1-4f2b-d036-f642acd4e028"
      },
      "execution_count": 21,
      "outputs": [
        {
          "output_type": "stream",
          "name": "stdout",
          "text": [
            "The key with 'b' closest to the beginning is: b\n"
          ]
        }
      ]
    }
  ]
}